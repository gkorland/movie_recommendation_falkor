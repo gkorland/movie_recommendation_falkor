{
 "cells": [
  {
   "cell_type": "code",
   "execution_count": null,
   "metadata": {},
   "outputs": [],
   "source": [
    "!docker run -p 6379:6379 -it - rm falkordb/falkordb"
   ]
  },
  {
   "cell_type": "code",
   "execution_count": null,
   "metadata": {},
   "outputs": [],
   "source": [
    "%pip install langchain langchain-openai falkordb langchain-experimental pandas gradio"
   ]
  },
  {
   "cell_type": "code",
   "execution_count": null,
   "metadata": {},
   "outputs": [],
   "source": [
    "import os\n",
    "import sys\n",
    "import logging\n",
    "os.environ[\"OPENAI_API_KEY\"] = \"YOUR_API_KEY\"\n",
    "logging.basicConfig(stream=sys.stdout, level=logging.INFO)"
   ]
  },
  {
   "cell_type": "code",
   "execution_count": null,
   "metadata": {},
   "outputs": [],
   "source": [
    "from langchain_community.graphs import FalkorDBGraph\n",
    "from langchain_community.document_loaders.csv_loader import CSVLoader\n",
    "import os\n",
    "import pandas as pd\n",
    "graph = FalkorDBGraph(database=\"imdb\")\n",
    "filename = os.path.join(os.getcwd(), 'imdb_top_1000.csv')\n",
    "data = pd.read_csv(filename)"
   ]
  },
  {
   "cell_type": "code",
   "execution_count": null,
   "metadata": {},
   "outputs": [],
   "source": [
    "import os\n",
    "import pandas as pd\n",
    "\n",
    "# Define a function to clean up each column\n",
    "def clean_column(column_data):\n",
    "    return column_data.apply(lambda x: x.replace(\"'\", \"\\\\'\") if pd.notnull(x) else 'NA')\n",
    "\n",
    "\n",
    "# Assume 'data' is already defined and loaded with pd.read_csv()\n",
    "\n",
    "# Apply the cleanup function to all necessary columns\n",
    "data['Series_Title'] = clean_column(data['Series_Title'])\n",
    "data['Director'] = clean_column(data['Director'])\n",
    "data['Certificate'] = clean_column(data['Certificate'])\n",
    "data['Runtime'] = clean_column(data['Runtime'])\n",
    "data['Genre'] = clean_column(data['Genre'])\n",
    "data['IMDB_Rating'] = data['IMDB_Rating'].fillna('NA')\n",
    "data['Released_Year'] = pd.to_numeric(data['Released_Year'], errors='coerce').fillna(-1)\n",
    "\n",
    "# Clean the star columns\n",
    "star_columns = ['Star1', 'Star2', 'Star3', 'Star4']\n",
    "for column in star_columns:\n",
    "    data[column] = clean_column(data[column])\n",
    "\n",
    "# Now, iterate through the DataFrame and construct the graph\n",
    "for index, row in data.iterrows():\n",
    "    # Directly use the cleaned data\n",
    "    movie_title = row['Series_Title']\n",
    "    director_name = row['Director']\n",
    "    certificate = row['Certificate']\n",
    "    runtime = row['Runtime']\n",
    "    genre = row['Genre']\n",
    "    imdb_rating = row['IMDB_Rating']\n",
    "    released_year = int(row['Released_Year']) if row['Released_Year'] != -1 else 'NA'\n",
    "\n",
    "    # Skip the row if the year is invalid\n",
    "    if released_year == 'NA':\n",
    "        print(f\"Skipping row {i} due to invalid year.\")\n",
    "        continue\n",
    "\n",
    "    # Create or merge the Movie node\n",
    "    movie_node = (\n",
    "        f\"MERGE (m:Movie {{\"\n",
    "        f\"title: '{movie_title}', \"\n",
    "        f\"year: {released_year}, \"\n",
    "        f\"certificate: '{certificate}', \"\n",
    "        f\"runtime: '{runtime}', \"\n",
    "        f\"genre: '{genre}', \"\n",
    "        f\"imdb_rating: {imdb_rating}\"\n",
    "        f\"}})\"\n",
    "    )\n",
    "\n",
    "    # Create or merge the Director node\n",
    "    director_node = f\"MERGE (d:Director {{name: '{director_name}'}})\"\n",
    "    directed_by_relation = f\"MERGE (d)-[:DIRECTED]->(m)\"\n",
    "\n",
    "    # Create or merge the Star nodes and their relationships\n",
    "    star_nodes = \"\"\n",
    "    starred_in_relations = \"\"\n",
    "    for s, star in enumerate(star_columns, start=1):\n",
    "        star_name = row[star]\n",
    "        if star_name != 'NA':\n",
    "            star_nodes += f\"MERGE (s{s}:Star {{name: '{star_name}'}})\\n\"\n",
    "            starred_in_relations += f\"MERGE (s{s})-[:STARRED_IN]->(m)\\n\"\n",
    "\n",
    "\n",
    "    cypher_query = (\n",
    "    f\"{movie_node} {director_node} {directed_by_relation}\"\n",
    "    f\" {star_nodes.strip()}\\n{starred_in_relations.strip()}\"\n",
    "    )\n",
    "    # Print the Cypher query\n",
    "    print(cypher_query)\n",
    "    graph.query(cypher_query)\n",
    "\n",
    "# It might be better to refresh the schema once after all operations to optimize performance\n",
    "graph.refresh_schema()\n",
    "print(\"Added graph documents to FalkorDB\")"
   ]
  },
  {
   "cell_type": "code",
   "execution_count": null,
   "metadata": {},
   "outputs": [],
   "source": [
    "import random\n",
    "import pandas as pd\n",
    "\n",
    "# Assume 'data' is already loaded with pd.read_csv()\n",
    "movie_names = data['Series_Title'].tolist().replace(\"'\", \"\\\\'\")\n",
    "\n",
    "# Demographic data ranges and options\n",
    "birth_years_range = (1950, 2005)\n",
    "genders = [\"Male\", \"Female\", \"Other\"]\n",
    "locations = [\"USA\", \"UK\", \"Canada\", \"Australia\", \"France\", \"Germany\", \"India\", \"Japan\"]\n",
    "\n",
    "num_persons = 100\n",
    "num_data_points = 1000\n",
    "\n",
    "opinions = [\"liked\", \"loved\", \"ignored\", \"disliked\", \"hated\"]\n",
    "\n",
    "#First creating Person Nodes\n",
    "\n",
    "for i in range(1, num_persons + 1):\n",
    "    person_name = f\"Person {i}\"\n",
    "    birth_year = random.randint(*birth_years_range)\n",
    "    gender = random.choice(genders)\n",
    "    location = random.choice(locations)\n",
    "\n",
    "    person_node = f\"CREATE (:Person {{name: '{person_name}', birthYear: {birth_year}, gender: '{gender}', location: '{location}'}})\"\n",
    "    graph.query(person_node)\n",
    "\n",
    "#Then Matching Person nodes with Movie nodes at random\n",
    "for _ in range(num_data_points):\n",
    "    person_index = random.randint(1, num_persons)\n",
    "    person_name = f\"Person {person_index}\"\n",
    "\n",
    "    opinion_edge = random.choice(opinions).upper()\n",
    "    movie_name = random.choice(movie_names)\n",
    "\n",
    "    opinion_query = f\"MATCH (m:Movie {{title: '{movie_name}'}}), (p:Person {{name: '{person_name}'}})\"\n",
    "    opinion_query += f\" MERGE (p)-[:{opinion_edge}]->(m)\"\n",
    "\n",
    "\n",
    "    graph.query(opinion_query)\n",
    "\n",
    "\n",
    "graph.refresh_schema()\n",
    "print(\"Added graph documents to FalkorDB\")"
   ]
  },
  {
   "cell_type": "code",
   "execution_count": null,
   "metadata": {},
   "outputs": [],
   "source": [
    "from langchain_openai import ChatOpenAI\n",
    "from langchain.chains import FalkorDBQAChain\n",
    "\n",
    "\n",
    "chain = FalkorDBQAChain.from_llm(ChatOpenAI(temperature=0), graph=graph, verbose=True)\n",
    "out1 = chain.run(\"Which movies did Christopher Nolan direct?\")\n",
    "print(out1)"
   ]
  },
  {
   "cell_type": "code",
   "execution_count": null,
   "metadata": {},
   "outputs": [],
   "source": [
    "out = chain.run(\"Who starred in Lifeboat?\")\n",
    "print(out)"
   ]
  },
  {
   "cell_type": "code",
   "execution_count": null,
   "metadata": {},
   "outputs": [],
   "source": [
    "out1 = chain.run(\"Which directors does Person 2 love?\")\n",
    "print(out1)"
   ]
  },
  {
   "cell_type": "code",
   "execution_count": null,
   "metadata": {},
   "outputs": [],
   "source": [
    "out1 = chain.run(\"Which movies did person born in year 1975 like?\")\n",
    "print(out1)\n",
    "out2 = chain.run(\"Which movies should person born in year 1967 watch?\")\n",
    "print(out2)"
   ]
  },
  {
   "cell_type": "code",
   "execution_count": null,
   "metadata": {},
   "outputs": [],
   "source": [
    "out1 = chain.run(\"Which films should person born in year 1972 not watch?\")\n",
    "print(out1)"
   ]
  },
  {
   "cell_type": "code",
   "execution_count": null,
   "metadata": {},
   "outputs": [],
   "source": [
    "out1 = chain.run(\"Which person likes the director Christopher Nolan's films?\")"
   ]
  },
  {
   "cell_type": "code",
   "execution_count": null,
   "metadata": {},
   "outputs": [],
   "source": [
    "out1 = chain.run(\"Where do people who like the director Martin Scorsese live?\")"
   ]
  },
  {
   "cell_type": "code",
   "execution_count": null,
   "metadata": {},
   "outputs": [],
   "source": [
    "out1 = chain.run(\"What is the gender distribution of people who love films?\")"
   ]
  },
  {
   "cell_type": "code",
   "execution_count": null,
   "metadata": {},
   "outputs": [],
   "source": [
    "out1 = chain.run(\"Who are the people that liked Action, Adventure films?\")"
   ]
  },
  {
   "cell_type": "code",
   "execution_count": null,
   "metadata": {},
   "outputs": [],
   "source": [
    "import gradio as gr\n",
    "\n",
    "# Assuming your FalkorDBQAChain setup code is correctly initialized here\n",
    "\n",
    "def ask_question(question):\n",
    "    # Your function to run the question through the chain and return the output\n",
    "    output = chain.run(question)\n",
    "    return output\n",
    "\n",
    "# Corrected Gradio interface setup\n",
    "iface = gr.Interface(fn=ask_question,\n",
    "                     inputs=gr.Textbox(lines=2, placeholder=\"Enter your question here...\"),\n",
    "                     outputs=gr.Textbox(lines=10, label=\"Output\"),  # Increased the lines for the output\n",
    "                     title=\"FalkorDB QA System\",\n",
    "                     description=\"Ask any question related to the movie database.\")\n",
    "\n",
    "# Launch the Gradio app\n",
    "iface.launch(share=True)"
   ]
  }
 ],
 "metadata": {
  "language_info": {
   "name": "python"
  }
 },
 "nbformat": 4,
 "nbformat_minor": 2
}
